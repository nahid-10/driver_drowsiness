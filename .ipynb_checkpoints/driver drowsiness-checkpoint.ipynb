{
 "cells": [
  {
   "cell_type": "code",
   "execution_count": 1,
   "id": "31b6d885",
   "metadata": {
    "ExecuteTime": {
     "end_time": "2025-06-01T03:38:04.680376Z",
     "start_time": "2025-06-01T03:38:04.381158Z"
    }
   },
   "outputs": [],
   "source": [
    "import cv2\n",
    "import dlib\n",
    "import numpy as np\n",
    "from scipy.spatial import distance\n",
    "from imutils import face_utils\n",
    "from playsound import playsound "
   ]
  },
  {
   "cell_type": "code",
   "execution_count": 2,
   "id": "c75b0f76",
   "metadata": {
    "ExecuteTime": {
     "end_time": "2025-06-01T03:38:05.214681Z",
     "start_time": "2025-06-01T03:38:05.209252Z"
    }
   },
   "outputs": [],
   "source": [
    "def eye_aspect_ratio(eye):\n",
    "    A = distance.euclidean(eye[1], eye[5])\n",
    "    B = distance.euclidean(eye[2], eye[4])\n",
    "    C = distance.euclidean(eye[0], eye[3])\n",
    "    EAR = (A + B) / (2.0 * C)\n",
    "    return EAR"
   ]
  },
  {
   "cell_type": "code",
   "execution_count": 3,
   "id": "d1ce9cc0",
   "metadata": {
    "ExecuteTime": {
     "end_time": "2025-06-01T03:38:07.017000Z",
     "start_time": "2025-06-01T03:38:05.943417Z"
    }
   },
   "outputs": [],
   "source": [
    "detector = dlib.get_frontal_face_detector()\n",
    "predictor = dlib.shape_predictor(\"shape_predictor_68_face_landmarks.dat\")"
   ]
  },
  {
   "cell_type": "code",
   "execution_count": 4,
   "id": "21366eed",
   "metadata": {
    "ExecuteTime": {
     "end_time": "2025-06-01T03:38:07.864499Z",
     "start_time": "2025-06-01T03:38:07.858732Z"
    }
   },
   "outputs": [],
   "source": [
    "(l_start, l_end) = face_utils.FACIAL_LANDMARKS_IDXS[\"left_eye\"]\n",
    "(r_start, r_end) = face_utils.FACIAL_LANDMARKS_IDXS[\"right_eye\"]"
   ]
  },
  {
   "cell_type": "code",
   "execution_count": 5,
   "id": "7456d8f4",
   "metadata": {
    "ExecuteTime": {
     "end_time": "2025-06-01T03:38:09.842045Z",
     "start_time": "2025-06-01T03:38:09.838862Z"
    }
   },
   "outputs": [],
   "source": [
    "EAR_THRESHOLD = 0.25  \n",
    "CONSEC_FRAMES = 20  \n",
    "ALARM_SOUND = \"mixkit-retro-game-emergency-alarm-1000.wav\"  "
   ]
  },
  {
   "cell_type": "code",
   "execution_count": null,
   "id": "4b6d16f6",
   "metadata": {
    "ExecuteTime": {
     "start_time": "2025-06-01T03:38:11.844Z"
    },
    "code_folding": []
   },
   "outputs": [],
   "source": [
    "frame_counter = 0  \n",
    "cap = cv2.VideoCapture(0)  \n",
    "\n",
    "while True:\n",
    "    ret, frame = cap.read()\n",
    "    if not ret:\n",
    "        break\n",
    "\n",
    "    gray = cv2.cvtColor(frame, cv2.COLOR_BGR2GRAY)\n",
    "    faces = detector(gray)\n",
    "\n",
    "    for face in faces:\n",
    "        shape = predictor(gray, face)\n",
    "        shape = face_utils.shape_to_np(shape)  \n",
    "\n",
    "        left_eye = shape[l_start:l_end]\n",
    "        right_eye = shape[r_start:r_end]\n",
    "\n",
    "       \n",
    "        left_EAR = eye_aspect_ratio(left_eye)\n",
    "        right_EAR = eye_aspect_ratio(right_eye)\n",
    "\n",
    "        \n",
    "        EAR = (left_EAR + right_EAR) / 2.0\n",
    "\n",
    "        \n",
    "        cv2.drawContours(frame, [left_eye], -1, (0, 255, 0), 1)\n",
    "        cv2.drawContours(frame, [right_eye], -1, (0, 255, 0), 1)\n",
    "\n",
    "        \n",
    "        if EAR < EAR_THRESHOLD:\n",
    "            frame_counter += 1\n",
    "            if frame_counter >= CONSEC_FRAMES:\n",
    "                cv2.putText(frame, \"DROWSINESS ALERT!\", (100, 100),\n",
    "                            cv2.FONT_HERSHEY_SIMPLEX, 0.7, (0, 0, 255), 2)\n",
    "                playsound(ALARM_SOUND)  \n",
    "        else:\n",
    "            frame_counter = 0  \n",
    "\n",
    "       \n",
    "        cv2.putText(frame, f\"EAR: {EAR:.2f}\", (10, 30),\n",
    "                    cv2.FONT_HERSHEY_SIMPLEX, 0.6, (0, 255, 0), 2)\n",
    "\n",
    "    \n",
    "    cv2.imshow(\"Driver Drowsiness Detection\", frame)\n",
    "\n",
    "    \n",
    "    if cv2.waitKey(1) & 0xFF == ord('q'):\n",
    "        break\n",
    "\n",
    "cap.release()\n",
    "cv2.destroyAllWindows()"
   ]
  },
  {
   "cell_type": "code",
   "execution_count": null,
   "id": "e4aba8c9",
   "metadata": {},
   "outputs": [],
   "source": []
  },
  {
   "cell_type": "code",
   "execution_count": null,
   "id": "885f64f2",
   "metadata": {},
   "outputs": [],
   "source": []
  }
 ],
 "metadata": {
  "kernelspec": {
   "display_name": "Python 3 (ipykernel)",
   "language": "python",
   "name": "python3"
  },
  "language_info": {
   "codemirror_mode": {
    "name": "ipython",
    "version": 3
   },
   "file_extension": ".py",
   "mimetype": "text/x-python",
   "name": "python",
   "nbconvert_exporter": "python",
   "pygments_lexer": "ipython3",
   "version": "3.11.5"
  },
  "toc": {
   "base_numbering": 1,
   "nav_menu": {},
   "number_sections": true,
   "sideBar": true,
   "skip_h1_title": false,
   "title_cell": "Table of Contents",
   "title_sidebar": "Contents",
   "toc_cell": false,
   "toc_position": {},
   "toc_section_display": true,
   "toc_window_display": false
  },
  "varInspector": {
   "cols": {
    "lenName": 16,
    "lenType": 16,
    "lenVar": 40
   },
   "kernels_config": {
    "python": {
     "delete_cmd_postfix": "",
     "delete_cmd_prefix": "del ",
     "library": "var_list.py",
     "varRefreshCmd": "print(var_dic_list())"
    },
    "r": {
     "delete_cmd_postfix": ") ",
     "delete_cmd_prefix": "rm(",
     "library": "var_list.r",
     "varRefreshCmd": "cat(var_dic_list()) "
    }
   },
   "types_to_exclude": [
    "module",
    "function",
    "builtin_function_or_method",
    "instance",
    "_Feature"
   ],
   "window_display": false
  }
 },
 "nbformat": 4,
 "nbformat_minor": 5
}
